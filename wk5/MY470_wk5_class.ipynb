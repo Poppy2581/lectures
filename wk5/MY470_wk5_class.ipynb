{
 "cells": [
  {
   "cell_type": "markdown",
   "metadata": {
    "slideshow": {
     "slide_type": "slide"
    }
   },
   "source": [
    "### MY470 Computer Programming\n",
    "# Programming in Teams\n",
    "### Week 5 Lab"
   ]
  },
  {
   "cell_type": "markdown",
   "metadata": {
    "slideshow": {
     "slide_type": "slide"
    }
   },
   "source": [
    "## Classes"
   ]
  },
  {
   "cell_type": "code",
   "execution_count": 2,
   "metadata": {
    "slideshow": {
     "slide_type": "-"
    }
   },
   "outputs": [],
   "source": [
    "class MyClass(object):\n",
    "    \"\"\"DocString to define class.\"\"\" \n",
    "    # DocString, not comments. DocStrings are for users, and will travel with the class.\n",
    "    # Information about the implemention (not abstraction) giving concrete meaning \n",
    "    # to the abstract methods.   \n",
    "    \n",
    "    # Special Method: Always FIRST\n",
    "    def __init__(self, vals):\n",
    "        \"\"\"Create a new instance from class.\"\"\"\n",
    "        \n",
    "        # \"__\" is two underscores. \n",
    "        # A constructor method is a special function that creates an instance of the class.\n",
    "        # Any initalising you would like to do with your class object.\n",
    "        # Data attributes are defined here with the \"self.\" prefix\n",
    "        self.vals = vals\n",
    "    \n",
    "    def class_methods(self, arg):\n",
    "        \"\"\"DocString to describe method.\"\"\"\n",
    "        \n",
    "        # Some methods that do something. Get() and set() methods are common.\n",
    "        # Self is used to represent the instance of the class. \n",
    "        # When working out the structure we can originally just leave \"pass\".\n",
    "        pass\n",
    "    \n",
    "    # Special Method: Always LAST\n",
    "    def __str__(self): \n",
    "        \"\"\"Return a string representation of object.\"\"\"\n",
    "        \n",
    "        # Define here how you want the Class Instance to be printed. \n",
    "        # Otherwise, you will get the location (where the Class Instance is stored)\n",
    "        return sorted(self.vals)\n"
   ]
  },
  {
   "cell_type": "markdown",
   "metadata": {
    "slideshow": {
     "slide_type": "slide"
    }
   },
   "source": [
    "## Iterables\n",
    "\n",
    "When you create a list, you can read its items one by one. Reading its items one by one is called iteration."
   ]
  },
  {
   "cell_type": "code",
   "execution_count": 3,
   "metadata": {
    "scrolled": true,
    "slideshow": {
     "slide_type": "-"
    }
   },
   "outputs": [
    {
     "name": "stdout",
     "output_type": "stream",
     "text": [
      "0\n",
      "1\n",
      "4\n"
     ]
    }
   ],
   "source": [
    "mylist = [x*x for x in range(3)]\n",
    "for i in mylist:\n",
    "    print(i)"
   ]
  },
  {
   "cell_type": "markdown",
   "metadata": {
    "slideshow": {
     "slide_type": "-"
    }
   },
   "source": [
    "`mylist` is an iterable. When you use a list comprehension, you create a list, and so an iterable. Everything you can use ```for... in...``` on is an iterable: lists, strings, collections, files...\n",
    "\n",
    "\n",
    "These iterables are handy because you can read them as much as you wish. However, you store all the values in memory and this is not always what you want when you have a lot of values.\n"
   ]
  },
  {
   "cell_type": "markdown",
   "metadata": {
    "slideshow": {
     "slide_type": "slide"
    }
   },
   "source": [
    "## Generators\n",
    "\n",
    "[Source](https://stackoverflow.com/questions/231767/what-does-the-yield-keyword-do)\n",
    "\n",
    "Generators are iterators, a kind of iterable **you can only iterate over once**. Generators do not store all the values in memory, they generate the values on the fly.\n",
    "\n",
    "It remembers the rule and the position of the pointer (to the element), rather than generating a string or list in the memory."
   ]
  },
  {
   "cell_type": "code",
   "execution_count": 2,
   "metadata": {
    "slideshow": {
     "slide_type": "-"
    }
   },
   "outputs": [
    {
     "name": "stdout",
     "output_type": "stream",
     "text": [
      "0\n",
      "1\n",
      "4\n"
     ]
    }
   ],
   "source": [
    "mygenerator = (x*x for x in range(3))\n",
    "\n",
    "for i in mygenerator:\n",
    "    print(i)"
   ]
  },
  {
   "cell_type": "markdown",
   "metadata": {
    "slideshow": {
     "slide_type": "-"
    }
   },
   "source": [
    "The syntax is the same except you used ```()``` instead of ```[]```. BUT, you cannot perform ```for i in mygenerator``` a second time since generators can only be used once: they calculate 0, then forget about it and calculate 1, and end calculating 4, one by one."
   ]
  },
  {
   "cell_type": "code",
   "execution_count": 4,
   "metadata": {
    "slideshow": {
     "slide_type": "-"
    }
   },
   "outputs": [],
   "source": [
    "for i in mygenerator:\n",
    "    print(i)"
   ]
  },
  {
   "cell_type": "markdown",
   "metadata": {
    "slideshow": {
     "slide_type": "slide"
    }
   },
   "source": [
    "## Yield\n",
    "\n",
    "```yield``` is a keyword that is used like ```return```, except the function will return a generator.\n"
   ]
  },
  {
   "cell_type": "code",
   "execution_count": 5,
   "metadata": {
    "slideshow": {
     "slide_type": "-"
    }
   },
   "outputs": [
    {
     "name": "stdout",
     "output_type": "stream",
     "text": [
      "<generator object createGenerator at 0x000002CDC0512C80>\n",
      "0\n",
      "1\n",
      "4\n"
     ]
    }
   ],
   "source": [
    "def createGenerator():\n",
    "    for i in range(3):\n",
    "        yield i*i\n",
    "\n",
    "mygenerator = createGenerator() # create a generator\n",
    "print(mygenerator) # mygenerator is an object!\n",
    "\n",
    "for i in mygenerator:\n",
    "    print(i)"
   ]
  },
  {
   "cell_type": "markdown",
   "metadata": {
    "slideshow": {
     "slide_type": "slide"
    }
   },
   "source": [
    "When you call the function, the code you have written in the function body does not run. The function only returns the generator object.\n",
    "\n",
    "**Then, your code will continue from where it left off each time ```for``` uses the generator.**"
   ]
  },
  {
   "cell_type": "code",
   "execution_count": 10,
   "metadata": {
    "slideshow": {
     "slide_type": "-"
    }
   },
   "outputs": [
    {
     "name": "stdout",
     "output_type": "stream",
     "text": [
      "This is printed first\n"
     ]
    },
    {
     "data": {
      "text/plain": [
       "1"
      ]
     },
     "execution_count": 10,
     "metadata": {},
     "output_type": "execute_result"
    }
   ],
   "source": [
    "def my_gen():\n",
    "    n = 1\n",
    "    print('This is printed first')\n",
    "    # Generator function contains yield statements\n",
    "    yield n\n",
    "\n",
    "    n += 1\n",
    "    print('This is printed second')\n",
    "    yield n\n",
    "\n",
    "    n += 1\n",
    "    print('This is printed at last')\n",
    "    yield n\n",
    "    \n",
    "# It returns an object but does not start execution immediately.\n",
    "a = my_gen()\n",
    "\n",
    "# We can iterate through the items using next().\n",
    "next(a)"
   ]
  },
  {
   "cell_type": "code",
   "execution_count": 11,
   "metadata": {
    "slideshow": {
     "slide_type": "fragment"
    }
   },
   "outputs": [
    {
     "name": "stdout",
     "output_type": "stream",
     "text": [
      "This is printed second\n",
      "2\n",
      "This is printed at last\n",
      "3\n"
     ]
    }
   ],
   "source": [
    "# Once the function yields, the function is paused and the control is transferred to the caller.\n",
    "\n",
    "# Local variables and their states are remembered between successive calls.\n",
    "print(next(a))\n",
    "print(next(a))"
   ]
  },
  {
   "cell_type": "code",
   "execution_count": 14,
   "metadata": {
    "slideshow": {
     "slide_type": "fragment"
    }
   },
   "outputs": [
    {
     "ename": "StopIteration",
     "evalue": "",
     "output_type": "error",
     "traceback": [
      "\u001b[1;31m---------------------------------------------------------------------------\u001b[0m",
      "\u001b[1;31mStopIteration\u001b[0m                             Traceback (most recent call last)",
      "Input \u001b[1;32mIn [14]\u001b[0m, in \u001b[0;36m<cell line: 3>\u001b[1;34m()\u001b[0m\n\u001b[0;32m      1\u001b[0m \u001b[38;5;66;03m# Finally, when the function terminates, StopIteration is raised automatically on further calls.\u001b[39;00m\n\u001b[0;32m      2\u001b[0m \u001b[38;5;66;03m# Generators can only be called once.\u001b[39;00m\n\u001b[1;32m----> 3\u001b[0m \u001b[38;5;28;43mnext\u001b[39;49m\u001b[43m(\u001b[49m\u001b[43ma\u001b[49m\u001b[43m)\u001b[49m\n",
      "\u001b[1;31mStopIteration\u001b[0m: "
     ]
    }
   ],
   "source": [
    "# Finally, when the function terminates, StopIteration is raised automatically on further calls.\n",
    "# Generators can only be called once.\n",
    "next(a)\n",
    "\n",
    "# Remember that the generator is only for range(3)."
   ]
  },
  {
   "cell_type": "markdown",
   "metadata": {
    "slideshow": {
     "slide_type": "notes"
    }
   },
   "source": [
    "\n",
    "So ...\n",
    "- The first time ```for``` calls the generator object created from your function, it will run the code in your function from the beginning until it hits ```yield```, then it'll return the first value of the loop. \n",
    "- Then, each subsequent call will run another iteration of the loop you have written in the function and return the next value. This will continue until the generator is considered empty, which happens when the function runs without hitting ```yield```. \n",
    "- That can be because the loop has come to an end, or because you no longer satisfy an ```if / else``` statement."
   ]
  },
  {
   "cell_type": "markdown",
   "metadata": {
    "slideshow": {
     "slide_type": "slide"
    }
   },
   "source": [
    "## Suggested Workflow for Prorgamming in Teams\n",
    "\n",
    "1. Use `pass` to outline structure of program\n",
    "2. Write class/method/function specifications\n",
    "3. Split the work\n",
    "4. Fill in the details\n",
    "5. Review each other's code to identify and fix potential problems\n",
    "6. Merge\n",
    "7. Identify bugs and problems\n",
    "8. Repeat 3-7 as necessary"
   ]
  },
  {
   "cell_type": "markdown",
   "metadata": {
    "slideshow": {
     "slide_type": "slide"
    }
   },
   "source": [
    "## GitHub as a Collaboration Tool\n",
    "\n",
    "1. Clone repository locally\n",
    "2. Make changes in cloned repository\n",
    "3. Upload new file, **creating a new branch and starting a pull request**\n"
   ]
  },
  {
   "cell_type": "markdown",
   "metadata": {
    "slideshow": {
     "slide_type": "slide"
    }
   },
   "source": [
    "## Create a New Branch When Uploading Changed File\n",
    "\n",
    "![Create a new branch](figs/branching.png \"Create a new branch\")"
   ]
  },
  {
   "cell_type": "markdown",
   "metadata": {
    "slideshow": {
     "slide_type": "slide"
    }
   },
   "source": [
    "## Open a Pull Request to Get Feedback (Automatically Directed There)\n",
    "\n",
    "![Open a pull request](figs/pull_request.png \"Open a pull request\")"
   ]
  },
  {
   "cell_type": "markdown",
   "metadata": {
    "slideshow": {
     "slide_type": "slide"
    }
   },
   "source": [
    "## You (and Later Your Partner) Can View Your Changes Highlighted\n",
    "\n",
    "![View changes](figs/changes.png \"View changes\")"
   ]
  },
  {
   "cell_type": "markdown",
   "metadata": {
    "slideshow": {
     "slide_type": "slide"
    }
   },
   "source": [
    "## Wait for Comments from Partner Before Merging\n",
    "\n",
    "![Merge after comments](figs/merge.png \"Merge after comments\")"
   ]
  },
  {
   "cell_type": "markdown",
   "metadata": {
    "slideshow": {
     "slide_type": "slide"
    }
   },
   "source": [
    "## Confirm Merge\n",
    "\n",
    "![Confirm merge](figs/confirm_merge.png \"Confirm merge\")"
   ]
  },
  {
   "cell_type": "markdown",
   "metadata": {
    "slideshow": {
     "slide_type": "slide"
    }
   },
   "source": [
    "## Open Issues to Discuss Problems and Ask Partner for Help\n",
    "\n",
    "![Open a new issue](figs/open_issue.png \"Open a new issue\")"
   ]
  },
  {
   "cell_type": "markdown",
   "metadata": {
    "slideshow": {
     "slide_type": "slide"
    }
   },
   "source": [
    "## Open Issues to Discuss Problems and Ask Partner for Help\n",
    "\n",
    "![Submit new issue](figs/submit_issue.png \"Submit new issue\")"
   ]
  },
  {
   "cell_type": "markdown",
   "metadata": {
    "slideshow": {
     "slide_type": "slide"
    }
   },
   "source": [
    "## Discuss\n",
    "\n",
    "![Discuss](figs/discuss.png \"Discuss\")"
   ]
  },
  {
   "cell_type": "code",
   "execution_count": 31,
   "metadata": {},
   "outputs": [
    {
     "name": "stdout",
     "output_type": "stream",
     "text": [
      "Angelina Jolie Arts 90000\n",
      "Paul Rudd Sociology\n"
     ]
    }
   ],
   "source": [
    "class Person(object):\n",
    "        \n",
    "    def __init__(self, f_name, l_name):\n",
    "        \"\"\"Creates a person using first and last names.\"\"\"\n",
    "        self.first_name = f_name\n",
    "        self.last_name = l_name\n",
    "        self.birthdate = None\n",
    "    \n",
    "    def get_name(self):\n",
    "        \"\"\"Gets self's full name.\"\"\"\n",
    "        return self.first_name + ' ' + self.last_name\n",
    "    \n",
    "    def get_age(self):\n",
    "        \"\"\"Gets self's age in years.\"\"\"\n",
    "        return date.today().year - self.birthdate.year\n",
    "    \n",
    "    def set_birthdate(self, dob):\n",
    "        \"\"\"Assumes dob is of type date.\n",
    "        Sets self's birthdate to dob.\n",
    "        \"\"\"\n",
    "        self.birthdate = dob\n",
    "    \n",
    "    def set_occupation(self, occupation):\n",
    "        \"\"\" Sets self's occupation \"\"\"\n",
    "        self.occupation = occupation\n",
    "        \n",
    "    def get_occupation(self):\n",
    "        \"\"\" Gets self's occupation \"\"\"\n",
    "        return self.occupation\n",
    "    \n",
    "    def __str__(self):\n",
    "        \"\"\"Returns self's full name.\"\"\"\n",
    "        return self.get_name()\n",
    "    \n",
    "    def __lt__(self, other):\n",
    "        \"\"\"Returns True if self's last name precedes other's last name\n",
    "        in alphabethical order. If they are equal, compares first names.\n",
    "        \"\"\"\n",
    "        if self.last_name == other.last_name:\n",
    "            return self.first_name < other.first_name\n",
    "        return self.last_name < other.last_name\n",
    "    \n",
    "class LSEPerson(Person):\n",
    "    \n",
    "    # This is a class variable\n",
    "    next_id_num = 1 # unique identifiication number\n",
    "        \n",
    "    def __init__(self, f_name, l_name):\n",
    "        \"\"\"Creates an LSE person using first and last names.\n",
    "        Includes properties: id num, department\"\"\"\n",
    "        Person.__init__(self, f_name, l_name)\n",
    "        self.id_num = LSEPerson.next_id_num\n",
    "        self.department = None\n",
    "        LSEPerson.next_id_num += 1\n",
    "    \n",
    "    def get_id_num(self):\n",
    "        \"\"\"Gets self's unique LSE number.\"\"\"\n",
    "        return self.id_num\n",
    "    \n",
    "    def set_department(self, department):\n",
    "        \"\"\"Sets self's department\"\"\"\n",
    "        self.department = department\n",
    "        \n",
    "    def get_department(self):\n",
    "        \"\"\"Gets self's department\"\"\"\n",
    "        return self.department\n",
    "    \n",
    "    def __lt__(self, other):\n",
    "        \"\"\"Returns True if self's id number is smaller than other's id number.\"\"\"\n",
    "        return self.id_num < other.id_num\n",
    "\n",
    "class Staff(LSEPerson):\n",
    "    def __init__(self, f_name, l_name):\n",
    "        \"\"\"Creates staff member using first and last names\n",
    "        Includes properties: salary\"\"\"\n",
    "        LSEPerson.__init__(self, f_name, l_name)\n",
    "        self.salary = None\n",
    "        \n",
    "    def set_salary(self, salary):\n",
    "        \"\"\"Sets self's salary\"\"\"\n",
    "        self.salary = salary\n",
    "        \n",
    "    def get_salary(self):\n",
    "        \"\"\"Gets self's salary\"\"\"\n",
    "        return self.salary\n",
    "\n",
    "class Admin(Staff):\n",
    "    pass\n",
    "\n",
    "class Acad(Staff):\n",
    "    pass\n",
    "\n",
    "class Student(LSEPerson):\n",
    "    pass\n",
    "\n",
    "class Undergrad(Student):\n",
    "    pass\n",
    "\n",
    "class Grad(Student):\n",
    "    pass\n",
    "\n",
    "prof1 = Acad('Angelina', 'Jolie')\n",
    "prof1.set_department('Arts')\n",
    "prof1.set_salary(90000)\n",
    "print(prof1, prof1.get_department(), prof1.get_salary())\n",
    "# you can't type prof1.set_department().set_salary() because there is no Return statement\n",
    "# ie: after you set department, there is no object returned, so there's nothing to tack the salary info on. \n",
    "\n",
    "grad1 = Grad('Paul', 'Rudd')\n",
    "grad1.set_department('Sociology')\n",
    "print(grad1, grad1.get_department())"
   ]
  },
  {
   "cell_type": "code",
   "execution_count": null,
   "metadata": {
    "collapsed": true,
    "slideshow": {
     "slide_type": "slide"
    }
   },
   "outputs": [],
   "source": [
    "\n",
    "# Exercise 1: Work with the person next to you to design \n",
    "# classes to manage the products, customers, and purchase \n",
    "# orders for an online book store such as amazon.com. \n",
    "# Outline the data attributes and useful methods for \n",
    "# each class. You can discuss and create the outline together. \n",
    "\n",
    "class Amazon(object):\n",
    "\n",
    "class Customer(Amazon):\n",
    "    \n",
    "    def __init__(self, f_name, l_name):\n",
    "        \"\"\"Creates a Customer using first and last names.\n",
    "        Has properties: email, password, username, address\"\"\"\n",
    "        self.first_name = f_name\n",
    "        self.last_name = l_name\n",
    "        self.email = None\n",
    "        self.username = None\n",
    "        self.password = None\n",
    "        self.address = None\n",
    "    \n",
    "    def get_name(self):\n",
    "        \"\"\"Gets self's name\"\"\"\n",
    "        return (self.f_name, l_name)\n",
    "    \n",
    "    def set_email(self, email):\n",
    "        \"\"\"Set self's email\"\"\"\n",
    "        self.email = (email)\n",
    "        \n",
    "    def get_email(self):\n",
    "        \"\"\"Gets self's email\"\"\"\n",
    "        return self.email\n",
    "        \n",
    "    def set_username(self, username):\n",
    "        \"\"\"Set self's username\"\"\"\n",
    "        self.username = (username)\n",
    "        \n",
    "    def get_username(self):\n",
    "        \"\"\"Gets self's username\"\"\"\n",
    "        return self.username\n",
    "    \n",
    "    def set_password(self, password):\n",
    "        \"\"\"Set self's password\"\"\"\n",
    "        self.password = (password)\n",
    "        \n",
    "    def get_password(self):\n",
    "        \"\"\"Gets self's password\"\"\"\n",
    "        return self.password\n",
    "\n",
    "    def set_address(self, address):\n",
    "        \"\"\"Set self's address\"\"\"\n",
    "        self.address = (address)\n",
    "        \n",
    "    def get_address(self):\n",
    "        \"\"\"Gets self's address\"\"\"\n",
    "        return self.address\n",
    "    \n",
    "class Product(Amazon):\n",
    "    \n",
    "    def __init__(self, product_name):\n",
    "        \"\"\"Creates Product using product name\n",
    "        Includes properties: product id, price, units \"\"\"\n",
    "        self.product_name = product_name\n",
    "        self.id_num = Product.next_id_num\n",
    "        Product.next_id_num += 1\n",
    "        self.price = None\n",
    "        self.units = None\n",
    "        \n",
    "    def set_price(self, price):\n",
    "        \"\"\"Set self's price\"\"\"\n",
    "        self.price = (price)\n",
    "        \n",
    "    def get_price(self):\n",
    "        \"\"\"Gets self's password\"\"\"\n",
    "        return self.price\n",
    "\n",
    "    \n",
    "class Purchase(Amazon):\n",
    "    \n",
    "    next_id_num = 1 \n",
    "    \n",
    "    def __init__(self, purchase_num):\n",
    "        \"\"\"Creates Purchase using purchase number\n",
    "        Includes properties: customer name, address, product id, price, units \"\"\"\n",
    "        self.purchase_num = Purchase.next_id_num\n",
    "        Purchase.next_id_num += 1\n",
    "        self.customer = None\n",
    "        self.address = None\n",
    "        self.prod_id = None\n",
    "        self.price = None\n",
    "        self.units = None\n",
    "        \n",
    "    def set_customer(self, f_name, l_name):\n",
    "        \"\"\"Set self's price\"\"\"\n",
    "        self.customer = \n",
    "        \n",
    "    def get_price(self):\n",
    "        \"\"\"Gets self's password\"\"\"\n",
    "        return self.price   "
   ]
  },
  {
   "cell_type": "code",
   "execution_count": null,
   "metadata": {
    "collapsed": true,
    "slideshow": {
     "slide_type": "-"
    }
   },
   "outputs": [],
   "source": [
    "\n",
    "\n",
    "# Exercise 2: Create a new repository in your account and upload \n",
    "# the class hierarchy you created. Practice cloning locally, \n",
    "# making changes, and uploading the changed file to your remote \n",
    "# repository by creating a branch and opening a pull request. \n",
    "# (Note that in order for others to be able to upload files \n",
    "# to your repository, you need to grant them push access.)\n",
    "\n"
   ]
  },
  {
   "cell_type": "code",
   "execution_count": null,
   "metadata": {
    "collapsed": true,
    "slideshow": {
     "slide_type": "-"
    }
   },
   "outputs": [],
   "source": [
    "# Exercise 3: Open a new issue in your partner's repository. \n",
    "# (Note that you don't need push access to open issues.)\n",
    "\n"
   ]
  }
 ],
 "metadata": {
  "celltoolbar": "Slideshow",
  "kernelspec": {
   "display_name": "Python 3 (ipykernel)",
   "language": "python",
   "name": "python3"
  },
  "language_info": {
   "codemirror_mode": {
    "name": "ipython",
    "version": 3
   },
   "file_extension": ".py",
   "mimetype": "text/x-python",
   "name": "python",
   "nbconvert_exporter": "python",
   "pygments_lexer": "ipython3",
   "version": "3.9.12"
  }
 },
 "nbformat": 4,
 "nbformat_minor": 2
}
