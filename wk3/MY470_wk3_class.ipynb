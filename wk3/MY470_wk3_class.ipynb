{
 "cells": [
  {
   "cell_type": "markdown",
   "metadata": {
    "slideshow": {
     "slide_type": "slide"
    }
   },
   "source": [
    "### MY470 Computer Programming\n",
    "# For-Loops and List Comprehensions in Python\n",
    "### Week 3 Lab"
   ]
  },
  {
   "cell_type": "markdown",
   "metadata": {
    "slideshow": {
     "slide_type": "slide"
    }
   },
   "source": [
    "## Control Flow and Indentation"
   ]
  },
  {
   "cell_type": "markdown",
   "metadata": {
    "slideshow": {
     "slide_type": "-"
    }
   },
   "source": [
    "```\n",
    "for i in list: \n",
    "    # inside the for-loop\n",
    "    if something is TRUE:\n",
    "        # inside the if statement\n",
    "        do something\n",
    "    else:\n",
    "        # inside the else statement\n",
    "        do something\n",
    "    # inside the for-loop, but not in the if or else statement anymore\n",
    "    do something  \n",
    "# outside of the for-loop\n",
    "do something\n",
    "```"
   ]
  },
  {
   "cell_type": "code",
   "execution_count": null,
   "metadata": {
    "slideshow": {
     "slide_type": "slide"
    }
   },
   "outputs": [],
   "source": [
    "# Exercise 1: Create a list that contains all integers from 1 to 100 (inclusive), \n",
    "# except that it has the string 'boo' for every integer that is divisible by 3 \n",
    "# Your list should look like: [1, 2, 'boo', 4, 5, 'boo', 7, 8, 'boo', 10, ...]"
   ]
  },
  {
   "cell_type": "code",
   "execution_count": null,
   "metadata": {},
   "outputs": [],
   "source": [
    "ls = []\n",
    "\n",
    "for i in range(1, 101):\n",
    "    if i % 3 == 0:\n",
    "        ls.append('boo')\n",
    "    else:\n",
    "        ls.append(i)\n",
    "print(ls)\n",
    "\n",
    "# alternative solution\n",
    "print(['boo' if i % 3 == 0 else i for i in range (1, 101)])\n",
    "# note that writing like this becomes illegible if you have more conditions"
   ]
  },
  {
   "cell_type": "code",
   "execution_count": null,
   "metadata": {
    "slideshow": {
     "slide_type": "-"
    }
   },
   "outputs": [],
   "source": [
    "# Exercise 2: Sum the even integers from the list below.\n",
    "lst = [1, 3, 2, 4.5, 7, 8, 10, 3, 5, 4, 7, 3.33]\n",
    "\n",
    "summ = 0\n",
    "for i in lst:\n",
    "    if i % 2 ==0:\n",
    "        summ += i\n",
    "print(summ)\n",
    "\n",
    "# alternatively\n",
    "lst_even_int = [i for i in lst if i % 2 == 0]\n",
    "print(sum(lst_even_int))\n",
    "\n",
    "# or if you only want integers\n",
    "\n",
    "summ2 = 0\n",
    "for x in lst:\n",
    "    if type(x) == int:\n",
    "        summ2 += x\n",
    "print(summ2)"
   ]
  },
  {
   "cell_type": "markdown",
   "metadata": {
    "slideshow": {
     "slide_type": "slide"
    }
   },
   "source": [
    "## List Comprehensions\n",
    "\n",
    "Create a new list based on another one.\n",
    "\n",
    "With a for-loop: \n",
    "\n",
    "```\n",
    "newlst = []\n",
    "for i in lst:\n",
    "    if something is TRUE:\n",
    "        j = do something to i\n",
    "        newlst.append(j)\n",
    "```    \n",
    "\n",
    "With a list comprehension: \n",
    "\n",
    "```\n",
    "newlst = [do something to i for i in lst if something is TRUE] \n",
    "```"
   ]
  },
  {
   "cell_type": "code",
   "execution_count": null,
   "metadata": {
    "slideshow": {
     "slide_type": "slide"
    }
   },
   "outputs": [],
   "source": [
    "# Exercise 3: Using a list comprehension, create a new list containing \n",
    "# the squares of the integers in the list below\n",
    "lst = [1, 3, 2, 4.5, 7, 8, 10, 3, 5, 4, 7, 3.33]\n",
    "\n",
    "lst2 = [x**2 for x in lst if type(x) == int]\n",
    "print(lst2)"
   ]
  },
  {
   "cell_type": "code",
   "execution_count": 5,
   "metadata": {
    "slideshow": {
     "slide_type": "-"
    }
   },
   "outputs": [
    {
     "name": "stdout",
     "output_type": "stream",
     "text": [
      "[(0, 6), (1, 5), (2, 4), (3, 3)]\n",
      "[(0, 6), (1, 5), (2, 4), (3, 3)]\n"
     ]
    }
   ],
   "source": [
    "# Exercise 4: Consider the lists x and y below. Using a list comprehension,\n",
    "# create a list that contains all combinations of (elem_x, elem_y) \n",
    "# such that elem_x + elem_y = 6\n",
    "# Your answer should look as follows: [(0, 6), (1, 5), (2, 4), (3, 3)]\n",
    "x = [0, 1, 2, 3]\n",
    "y = [3, 4, 5, 6]\n",
    "\n",
    "ls = []\n",
    "for i in x:\n",
    "    for j in y:\n",
    "        if i + j == 6:\n",
    "            ls.append((i,j))\n",
    "print(ls)\n",
    "\n",
    "ls2 = [(i , j) for i in x for j in y if i + j == 6]\n",
    "print(ls2)"
   ]
  },
  {
   "cell_type": "code",
   "execution_count": 13,
   "metadata": {
    "slideshow": {
     "slide_type": "-"
    }
   },
   "outputs": [
    {
     "name": "stdout",
     "output_type": "stream",
     "text": [
      "[range(0, 4), range(1, 4), range(2, 4), range(3, 4)]\n"
     ]
    },
    {
     "data": {
      "text/plain": [
       "[[0, 1, 2, 3], [1, 2, 3], [2, 3], [3]]"
      ]
     },
     "execution_count": 13,
     "metadata": {},
     "output_type": "execute_result"
    }
   ],
   "source": [
    "# Exercise 5: Using nested list comprehensions and range(), create a list \n",
    "# that looks as follows: [[0, 1, 2, 3], [1, 2, 3], [2, 3], [3]]\n",
    "\n",
    "output = []\n",
    "j = 0\n",
    "for i in range(j, 4):\n",
    "    output.extend([range(j,4)])\n",
    "    j += 1\n",
    "print (output)\n",
    "    \n",
    "\n",
    "[[i for i in (range(j, 4))] for j in range(4)]"
   ]
  },
  {
   "cell_type": "markdown",
   "metadata": {
    "slideshow": {
     "slide_type": "slide"
    }
   },
   "source": [
    "## Iterating over Dictionaries"
   ]
  },
  {
   "cell_type": "code",
   "execution_count": null,
   "metadata": {
    "slideshow": {
     "slide_type": "-"
    }
   },
   "outputs": [],
   "source": [
    "letters = {'a':'apple', 'b': 'beetle', 'c': 'cat'}\n",
    "\n",
    "for i in letters:  # equivalent to: for i in letters.keys():\n",
    "    print(i)\n",
    "\n",
    "print()\n",
    "for i in letters:\n",
    "    print(letters[i])\n",
    "# equivalent to:\n",
    "for i in letters.values(): \n",
    "    print(i)\n",
    "\n",
    "print()\n",
    "for i in letters.items(): \n",
    "    print(i)\n",
    "    \n",
    "print()\n",
    "for i, j in letters.items(): \n",
    "    print(i, \":\", j)\n",
    "    "
   ]
  },
  {
   "cell_type": "code",
   "execution_count": 18,
   "metadata": {
    "slideshow": {
     "slide_type": "slide"
    }
   },
   "outputs": [
    {
     "name": "stdout",
     "output_type": "stream",
     "text": [
      "\n",
      "a : ['apple']\n",
      "4 : [None]\n",
      "b : ['beetle']\n",
      "c : ['cat']\n",
      "2 : [None]\n",
      "d : ['diamond']\n"
     ]
    },
    {
     "data": {
      "text/plain": [
       "{'a': [], 'b': [], 'c': [], 'd': []}"
      ]
     },
     "execution_count": 18,
     "metadata": {},
     "output_type": "execute_result"
    }
   ],
   "source": [
    "# Exercise 6: Using a dictionary comprehension, create a new dictionary that\n",
    "# contains the keys from dictionary letters that are strings, with the value for\n",
    "# each key assigned to be an empty list\n",
    "# The new dictionary should look as follows: {'a':[], 'b':[], 'c':[], 'd':[]}\n",
    "\n",
    "letters = {'a':'apple', 4: None, 'b': 'beetle', 'c': 'cat', 2: None, 'd': 'diamond'}\n",
    "\n",
    "print()\n",
    "for i, j in letters.items():\n",
    "    print(i,\":\", [j])\n",
    "    \n",
    "# alternative\n",
    "{i:[] for i in letters.keys() if type(i) == str}\n",
    "# ^for each entry we want this structure i:[]"
   ]
  },
  {
   "cell_type": "code",
   "execution_count": 28,
   "metadata": {
    "slideshow": {
     "slide_type": "-"
    }
   },
   "outputs": [
    {
     "name": "stdout",
     "output_type": "stream",
     "text": [
      "{'a': ['a', 'an'], 'b': ['be', 'been'], 'c': ['can'], 'd': ['do', 'did'], 't': ['the', 'to']}\n"
     ]
    }
   ],
   "source": [
    "# Exercise 7: Now, distribute the words from the list below to the new dictionary\n",
    "# according to their first letter\n",
    "\n",
    "dic = {'a': [], 'b': [], 'c': [], 'd': []}\n",
    "wordlst = ['a', 'be', 'an', 'the', 'can', 'do', 'did', 'to', 'been']\n",
    "\n",
    "for word in wordlst:\n",
    "    if word[0] in dic: # the first letter of the word is in dictionary, then\n",
    "        dic[word[0]].append(word) # append the word to the dictionary\n",
    "    else: \n",
    "        dic[word[0]] = [word] #otherwise, add this, the first letter of the word and the word\n",
    "print(dic)\n",
    "\n",
    "# help(dict)\n",
    "\n",
    "for word in wordlst:\n",
    "    dic.setdefault(word[0],[]).append(word)   # if it's missing, it goes to the default practice which is to add it"
   ]
  },
  {
   "cell_type": "markdown",
   "metadata": {
    "slideshow": {
     "slide_type": "slide"
    }
   },
   "source": [
    "## Best Practice: Beware of Iterating over Unordered Collections\n",
    "\n",
    "* (In Python 3.6 dictionaries are now implemented as ordered but you should not rely on this!)\n",
    "* For unordered collections, the ordering of elements is determined by how the elements are stored in memory\n"
   ]
  },
  {
   "cell_type": "code",
   "execution_count": null,
   "metadata": {
    "slideshow": {
     "slide_type": "-"
    }
   },
   "outputs": [],
   "source": [
    "lst = [1, 2, 4, 8, 1, 2]\n",
    "st = set(lst)\n",
    "\n",
    "print(\"List:\", [i for i in lst])    \n",
    "print(\"Set:\", [i for i in st]) \n"
   ]
  },
  {
   "cell_type": "markdown",
   "metadata": {
    "slideshow": {
     "slide_type": "slide"
    }
   },
   "source": [
    "## Best Practice: Avoid Mutating a List When Iterating over It\n"
   ]
  },
  {
   "cell_type": "code",
   "execution_count": null,
   "metadata": {
    "slideshow": {
     "slide_type": "-"
    }
   },
   "outputs": [],
   "source": [
    "lst = [i for i in range(10)]\n",
    "for i in lst:\n",
    "    popped = lst.pop(i)\n",
    "    print(popped, lst)\n"
   ]
  },
  {
   "cell_type": "code",
   "execution_count": null,
   "metadata": {},
   "outputs": [],
   "source": [
    "# instead, just create a new list\n",
    "# it's often easier to create a new list with the properties you want rather than modifying an existing list"
   ]
  }
 ],
 "metadata": {
  "celltoolbar": "Slideshow",
  "kernelspec": {
   "display_name": "Python 3 (ipykernel)",
   "language": "python",
   "name": "python3"
  },
  "language_info": {
   "codemirror_mode": {
    "name": "ipython",
    "version": 3
   },
   "file_extension": ".py",
   "mimetype": "text/x-python",
   "name": "python",
   "nbconvert_exporter": "python",
   "pygments_lexer": "ipython3",
   "version": "3.9.12"
  }
 },
 "nbformat": 4,
 "nbformat_minor": 2
}
